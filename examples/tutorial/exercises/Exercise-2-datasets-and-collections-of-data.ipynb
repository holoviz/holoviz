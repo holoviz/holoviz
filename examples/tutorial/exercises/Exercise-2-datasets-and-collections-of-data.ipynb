{
 "cells": [
  {
   "cell_type": "markdown",
   "metadata": {},
   "source": [
    "<a href='http://www.holoviews.org'><img src=\"../../assets/hv+bk.png\" alt=\"HV+BK logos\" width=\"40%;\" align=\"left\"/></a>\n",
    "<div style=\"float:right;\"><h2>Exercise 2: Datasets and Collections of Data</h2></div>"
   ]
  },
  {
   "cell_type": "code",
   "execution_count": null,
   "metadata": {},
   "outputs": [],
   "source": [
    "import pandas as pd\n",
    "import holoviews as hv\n",
    "from holoviews import opts  # noqa\n",
    "\n",
    "hv.extension('bokeh')"
   ]
  },
  {
   "cell_type": "markdown",
   "metadata": {},
   "source": [
    "### Example 1:"
   ]
  },
  {
   "cell_type": "code",
   "execution_count": null,
   "metadata": {},
   "outputs": [],
   "source": [
    "macro = pd.read_csv('../../data/macro.csv')"
   ]
  },
  {
   "cell_type": "markdown",
   "metadata": {},
   "source": [
    "Start by inspecting the ``macro`` dataframe using the ``head`` method to discover which columns it declares."
   ]
  },
  {
   "cell_type": "code",
   "execution_count": null,
   "metadata": {},
   "outputs": [],
   "source": []
  },
  {
   "cell_type": "markdown",
   "metadata": {},
   "source": [
    "Now plot the ``growth`` by ``year`` using a ``Scatter`` element."
   ]
  },
  {
   "cell_type": "code",
   "execution_count": null,
   "metadata": {},
   "outputs": [],
   "source": []
  },
  {
   "cell_type": "markdown",
   "metadata": {},
   "source": [
    "<details><summary href=\"#solution1\">Solution</summary>\n",
    "\n",
    "<br>\n",
    "    \n",
    "```python\n",
    "hv.Scatter(macro, 'year', 'growth')\n",
    "```\n",
    "    \n",
    "<br>\n",
    "    \n",
    "</details>\n",
    "\n",
    "Now declare the 'country' and 'unem' columns as additional vdims to the ``Scatter`` object and set ``color=dim('country')`` and ``size=dim('unem')`` as plot options. \n",
    "\n",
    "<details><summary href=\"#hint1\">Hint</summary>\n",
    "\n",
    "The `kdims` and `vdims` arguments accept a single dimension or lists of dimensions.\n",
    "\n",
    "</details>"
   ]
  },
  {
   "cell_type": "code",
   "execution_count": null,
   "metadata": {},
   "outputs": [],
   "source": []
  },
  {
   "cell_type": "markdown",
   "metadata": {},
   "source": [
    "<details><summary href=\"#solution2\">Solution</summary>\n",
    "<br>\n",
    "\n",
    "```python\n",
    "scatter = hv.Scatter(macro, 'year', ['growth', 'country', 'unem'])\n",
    "scatter.opts(color=dim('country'), size=dim('unem'))\n",
    "```\n",
    "\n",
    "<br>\n",
    "</details>\n",
    "\n",
    "You should now have a fairly complex plot showing the growth by year, where each point is colored by the country and a size scaled by the unemployment, but you will immediately note the various issues with this plot. First identify the issues, then try to address them by using tab-completion in the corresponding `opts` options builder.\n",
    "\n",
    "<details><summary href=\"#hint2\">Hint</summary>\n",
    "\n",
    "The plot width can be adjusted as in previous examples, the color mapping can be controlled using the <code>cmap</code> style option, and the legend position (right, left, etc.) can be changed using the <code>legend_position</code> plot option.  If you don't know what to supply as the value to the <code>cmap</code> option, try passing an empty string and execute the cell to see a list of possible values.\n",
    "</details>"
   ]
  },
  {
   "cell_type": "code",
   "execution_count": null,
   "metadata": {},
   "outputs": [],
   "source": []
  },
  {
   "cell_type": "markdown",
   "metadata": {},
   "source": [
    "<details><summary href=\"#solution3\">Solution</summary>\n",
    "\n",
    "<br>\n",
    "\n",
    "```python\n",
    "options = opts.Scatter(color=dim('country'), size=dim('unem'), width=800, height=400, \n",
    "                       legend_position='left', cmap='tab20')\n",
    "hv.Scatter(macro, 'year', ['growth', 'country', 'unem']).sort(['year', 'country']).opts(options)\n",
    "```\n",
    "\n",
    "</details>\n",
    "\n",
    "\n",
    "### Example 2: \n",
    "\n",
    "This time we will be working with a dataset about diamonds:"
   ]
  },
  {
   "cell_type": "code",
   "execution_count": null,
   "metadata": {},
   "outputs": [],
   "source": [
    "diamonds = pd.read_csv('../../data/diamonds.csv').sample(5000)\n",
    "diamond_ds = hv.Dataset(diamonds, ['cut', 'color', 'clarity'])"
   ]
  },
  {
   "cell_type": "markdown",
   "metadata": {},
   "source": [
    "As before, first inspect the data  to see what columns it has. But this time, instead of looking at the dataframe ``diamonds`` itself, look at the string representation of the ``diamond_ds`` Dataset object.\n",
    "\n",
    "<details><summary href=\"#hint3\">Hint</summary>\n",
    "\n",
    "Printing any HoloViews object will show its string representation, and that's also the default representation for a Dataset since a Dataset is not yet visualizable.\n",
    "</details>"
   ]
  },
  {
   "cell_type": "code",
   "execution_count": null,
   "metadata": {},
   "outputs": [],
   "source": []
  },
  {
   "cell_type": "markdown",
   "metadata": {},
   "source": [
    "Unlike the default dataframe table representation, this representation should clearly separate the key dimensions from the value dimensions.\n",
    "\n",
    "Using the ``.to`` method on ``diamond_ds``, plot the 'price' against the 'carat' column using a  ``Scatter`` element and use the groupby kwarg to split the dataset by 'clarity'.\n",
    "\n",
    "<details><summary href=\"#hint4\">Hint</summary>\n",
    "\n",
    "The `.to` method follows a signature of `dataset.to(Element, kdims, vdims, groupby)`.\n",
    "</details>"
   ]
  },
  {
   "cell_type": "code",
   "execution_count": null,
   "metadata": {},
   "outputs": [],
   "source": []
  },
  {
   "cell_type": "markdown",
   "metadata": {},
   "source": [
    "<details><summary href=\"#solution4\">Solution</summary>\n",
    "<br>\n",
    "\n",
    "```python\n",
    "diamond_ds.to(hv.Scatter, 'carat', 'price', groupby='clarity')\n",
    "```\n",
    "\n",
    "<br>\n",
    "</details>\n",
    "\n",
    "The plot you should have gotten lets you view each subset separately by selecting the value of a widget. Now use the <code>.overlay</code> method on the grouped dataset to overlay the individual plots. Then adjust the width and height of the plot, enable a log y-axis and define a custom color cycle using <code>Cycle('Category20')</code> as a style option.\n",
    "\n",
    "<details><summary href=\"#hint5\">Hint</summary>\n",
    "\n",
    "A <code>Cycle</code>can be used for any style option, allowing it to take values that vary in an Overlay. Here, to set a color cycle, just set the <code>color</code>option to be a <code>Cycle</code>. You can set the width and height on either<code>Scatter</code> or <code>NdOverlay</code>, but only <code>Scatter</code> will have a <code>color</code> option.\n",
    "</details>"
   ]
  },
  {
   "cell_type": "code",
   "execution_count": null,
   "metadata": {},
   "outputs": [],
   "source": []
  },
  {
   "cell_type": "markdown",
   "metadata": {},
   "source": [
    "<details><summary href=\"#solution5\">Solution</summary>\n",
    "\n",
    "<br>\n",
    "\n",
    "```python\n",
    "scatter_opts = opts.Scatter(width=600, height=400, logy=True, color=Cycle('Category20'))\n",
    "diamond_ds.to(hv.Scatter, 'carat', 'price', groupby='clarity').overlay().opts(scatter_opts)\n",
    "```\n",
    "\n",
    "</details>\n",
    "\n",
    "### Example 3:\n",
    "\n",
    "Now let's look at the same dataset in a different way. Again using the ``.to`` method plot the 'price' broken down by 'cut' and group it by 'clarity', but use a ``BoxWhisker`` to summarize the distribution, and save it into a variable \"hm\" before displaying it.\n",
    "\n",
    "<details><summary href=\"#hint6\">Hint</summary>\n",
    "\n",
    "Make sure to specify the 'price' as the value dimension, i.e. as the second argument. If you assign a HoloViews object to a variable, it won't be displayed, so just type the name of the variable to see it.\n",
    "</details>"
   ]
  },
  {
   "cell_type": "code",
   "execution_count": null,
   "metadata": {},
   "outputs": [],
   "source": []
  },
  {
   "cell_type": "markdown",
   "metadata": {},
   "source": [
    "<details><summary href=\"#solution6\">Solution</summary>\n",
    "<br>\n",
    "\n",
    "```python\n",
    "hm = diamond_ds.to(hv.BoxWhisker, 'cut', 'price', groupby='clarity')\n",
    "hm\n",
    "```\n",
    "    \n",
    "<br>\n",
    "</details>\n",
    "\n",
    "This time let's lay out the grouped dimension as a grid. Use the ``grid`` method on the grouped dataset. Then enable the ``shared_xaxis`` and ``shared_yaxis`` plot options on the resulting ``GridSpace``. Finally set a custom ``xrotation`` to rotate the x-axis ticks, being careful to rotate it on the correct element type.\n",
    "\n",
    "<details><summary href=\"#hint7\">Hint</summary>\n",
    "\n",
    "Just like elements, containers like a <code>GridSpace</code> have options which can be specified using the <code>.opts</code> method. But the <code>xrotation</code> won't need to be applied to the <code>GridSpace</code>, but to the underlying element in each grid cell.\n",
    "</details>"
   ]
  },
  {
   "cell_type": "code",
   "execution_count": null,
   "metadata": {
    "scrolled": true
   },
   "outputs": [],
   "source": []
  },
  {
   "cell_type": "markdown",
   "metadata": {},
   "source": [
    "<details><summary href=\"#solution7\">Solution</summary>\n",
    "\n",
    "<br>\n",
    "\n",
    "```python\n",
    "gridspace = diamond_ds.to(hv.BoxWhisker, 'cut', 'price', groupby='clarity').grid()\n",
    "gridspace.opts(\n",
    "    opts.BoxWhisker(xrotation=45),\n",
    "    opts.GridSpace(shared_xaxis=True, shared_yaxis=True)) \n",
    "```\n",
    "\n",
    "</details>"
   ]
  },
  {
   "cell_type": "markdown",
   "metadata": {},
   "source": [
    "&nbsp;"
   ]
  }
 ],
 "metadata": {
  "language_info": {
   "name": "python",
   "pygments_lexer": "ipython3"
  }
 },
 "nbformat": 4,
 "nbformat_minor": 2
}
