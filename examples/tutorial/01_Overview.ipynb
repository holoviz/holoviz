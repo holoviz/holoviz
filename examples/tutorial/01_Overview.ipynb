{
 "cells": [
  {
   "cell_type": "markdown",
   "metadata": {},
   "source": [
    "<style>div.container { width: 100% }</style>\n",
    "<img style=\"float:left;  vertical-align:text-bottom;\" height=\"65\" width=\"172\" src=\"../assets/holoviz-logo-unstacked.svg\" />\n",
    "<div style=\"float:right; vertical-align:text-bottom;\"><h2>Tutorial 1. Overview</h2></div>\n",
    "<br><br>\n"
   ]
  },
  {
   "cell_type": "markdown",
   "metadata": {},
   "source": [
    "# Welcome to HoloViz!\n",
    "\n",
    "HoloViz is a set of compatible tools to make it easier to see and understand your data at *every* stage needed by users, research groups, and projects:\n",
    "\n",
    "- importing and cleaning\n",
    "- initial exploration\n",
    "- testing hypotheses\n",
    "- generating accurate and convincing figures\n",
    "- sharing and deploying live apps\n",
    "- improving and adapting each stage over time\n",
    "\n",
    "Why \"Holo\"? \"*holo-*\", from the Greek root \"*hólos*\", means \"[whole, entire, complete](https://www.dictionary.com/browse/holo-)\"."
   ]
  },
  {
   "cell_type": "markdown",
   "metadata": {},
   "source": [
    "# Doesn't Python *already* cover all these stages?\n",
    "\n",
    "Sure! That's how it ended up with:"
   ]
  },
  {
   "cell_type": "markdown",
   "metadata": {},
   "source": [
    "<div style=\"clear:left;\">\n",
    "<img src=\"../assets/landscape_hv_nx.png\" width=75% align=\"left\" style=\"margin: 0px 30px\">\n",
    "</div>"
   ]
  },
  {
   "cell_type": "markdown",
   "metadata": {},
   "source": [
    "## Why so many tools?\n",
    "\n",
    "Because each tool is typically limited to one or two of the stages in the data life cycle, supporting some well but not the others:\n",
    "\n",
    "- Simple, quick plots, but limited in capabilities, customization, and compositionality.\n",
    "- Deep capabilities for print-based plots, but weak or no support for custom interactivity in web apps.\n",
    "- Good interactivity in Jupyter, but weak or no support for batch processing or deployed servers.\n",
    "- Good support for deployed servers, but weak or no support for Jupyter or interactive exploration in general.\n",
    "- Good support for small datasets or heavily aggregated data, but not suitable for exploring the full raw data"
   ]
  },
  {
   "cell_type": "markdown",
   "metadata": {},
   "source": [
    "## How does HoloViz help?\n",
    "\n",
    "To avoid having to abandon all your work on one stage to reach the next, HoloViz tools reduce friction and gaps between the stages:\n",
    "\n",
    "- All tools support web browsers, so you can always share results and use remote data or compute.\n",
    "- Even so, plots are built in Python, not web tech (JS/CSS), to support exploratory analysis.\n",
    "- You can use the same tools whether your data fits in a browser tab or requires server-side rendering.\n",
    "- All interactivity works the same in Jupyter and in a standalone deployment.\n",
    "- High-level (quick and convenient) interfaces are [shortcuts, not dead ends](https://holoviz.org/tutorial/Overview.html), so you don't get stuck.\n",
    "- Where feasible, functionality is provided using the APIs you already know, so you don't have to learn new concepts unnecessarily"
   ]
  },
  {
   "cell_type": "markdown",
   "metadata": {},
   "source": [
    "## HoloViz libraries\n",
    "\n",
    "<img width=\"800\" src=\"../assets/pn_hp_hv_gv_ds_lu_pa_cs.png\"/>\n",
    "\n",
    "With the above design goals in mind, we have developed a set of independent but complementary open-source Python packages to streamline the process of working with small and large datasets (from a few datapoints to billions or more) in a web browser, whether doing exploratory analysis, making simple widget-based tools, or building full-featured dashboards. The main libraries in this ecosystem include:\n",
    "\n",
    "-   [Panel](http://panel.pyviz.org): Assembling objects from many different libraries into a layout or app, whether in a Jupyter notebook or in a standalone servable dashboard\n",
    "-   [hvPlot](http://hvplot.pyviz.org): Quickly return Bokeh/Matplotlib/Plotly-based HoloViews plots from Pandas, Xarray, orother data structures\n",
    "-   [HoloViews](http://holoviews.org): Declarative objects for instantly visualizable data, building Bokeh/Matplotlib/Plotly plots from convenient high-level specifications\n",
    "-   [GeoViews](http://geoviews.org): Visualizable geographic data that that can be mixed and matched with HoloViews objects\n",
    "-   [Datashader](http://datashader.org): Rasterizing huge datasets quickly as fixed-size arrays or images\n",
    "-   [Lumen](https://lumen.holoviz.org): Building Panel dashboards with HoloViews plots from a text file (low code) or GUI (no code)\n",
    "-   [Param](http://param.pyviz.org): Declaring user-relevant parameters, making it simple to work with widgets inside and outside of a notebook context\n",
    "-   [Colorcet](http://colorcet.pyviz.org): Perceptually accurate continuous and categorical colormaps for any viz tool\n",
    "\n",
    "\n",
    "These libraries work with and are built upon many other familiar open source [libraries](https://holoviz.org/tutorial/Overview.html)."
   ]
  },
  {
   "cell_type": "markdown",
   "metadata": {},
   "source": [
    "<div style=\"clear:left;\">\n",
    "<img src=\"../assets/landscape_hv_nx_panel.png\" width=65% \n",
    "align=\"left\" style=\"margin: 0px 30px\">\n",
    "\n",
    "<br><br>\n",
    "<br><br>\n",
    "HoloViz currently covers this subset of viz tools\n",
    "<br><br>\n",
    "</div>\n",
    "<div style=\"clear:left;\"></div>"
   ]
  },
  {
   "cell_type": "markdown",
   "metadata": {},
   "source": [
    "<div style=\"clear:left;\">\n",
    "<img src=\"../assets/landscape_hv_nx_pyviz.png\" width=65% \n",
    "align=\"left\" style=\"margin: 0px 30px\">\n",
    "\n",
    "<br><br>\n",
    "<br><br>\n",
    "These tools are the most fully supported and are often entirely sufficient on their own.\n",
    "<br><br>\n",
    "</div>\n",
    "<div style=\"clear:left;\"></div>"
   ]
  },
  {
   "cell_type": "markdown",
   "metadata": {},
   "source": [
    "## The HoloViz tutorial\n",
    "\n",
    "In this tutorial, we'll focus on an example set of data about [earthquake events](https://earthquake.usgs.gov), using it to illustrate how to build a dashboard such as this one:<br><br>\n",
    "\n",
    "<div style=\"clear:left;\">\n",
    "<img src=\"../assets/dashboard.png\" width=65% \n",
    "align=\"left\" style=\"margin: 0px 30px\">"
   ]
  },
  {
   "cell_type": "markdown",
   "metadata": {},
   "source": [
    "Each of the HoloViz tools provides its own API for accessing whatever functionality it implements (and sometimes more than one API, for different purposes!). For this tutorial, we will focus on the following APIs that we believe provide the most power to new users for the smallest investment of time and effort:\n",
    "\n",
    "* [hvPlot](https://hvplot.pyviz.org) `.plot()` API, which adds additional power to a well-known API supported by many different data libraries. \n",
    "* [hvPlot](https://hvplot.pyviz.org) `.interactive()` API, which brings live interactivity to the existing Pandas and Xarray APIs.\n",
    "* [Panel](https://panel.holoviz.org/), which lets you lay out your visual elements and build arbitrary interactivity linked by widgets.\n",
    "\n",
    "This functionality builds on the native APIs for all the other libraries discussed above (plus many others in the SciPy/PyData ecosystem!), but in many cases hvPlot `.plot()`, hvPlot `.interactive()`, and a bit of Panel are all you need to learn to get your work done!"
   ]
  }
 ],
 "metadata": {
  "language_info": {
   "name": "python",
   "pygments_lexer": "ipython3"
  }
 },
 "nbformat": 4,
 "nbformat_minor": 4
}
