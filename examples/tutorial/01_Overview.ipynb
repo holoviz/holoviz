{
 "cells": [
  {
   "cell_type": "markdown",
   "metadata": {},
   "source": [
    "<style>div.container { width: 100% }</style>\n",
    "<img style=\"float:left;  vertical-align:text-bottom;\" height=\"65\" width=\"172\" src=\"../assets/holoviz-logo-unstacked.svg\" />\n",
    "<div style=\"float:right; vertical-align:text-bottom;\"><h2>Tutorial 1. Overview</h2></div>\n",
    "<br><br>\n"
   ]
  },
  {
   "cell_type": "markdown",
   "metadata": {},
   "source": [
    "# Welcome to HoloViz!\n",
    "\n",
    "HoloViz is a set of compatible tools to make it easier to see and understand your data at *every* stage needed by users, research groups, and projects:\n",
    "\n",
    "- importing and cleaning\n",
    "- initial exploration\n",
    "- testing hypotheses\n",
    "- generating accurate and convincing figures\n",
    "- sharing and deploying live apps\n",
    "- improving and adapting each stage over time\n",
    "\n",
    "Why \"Holo\"? \"*holo-*\", from the Greek root \"*hólos*\", means [\"whole, entire, complete\"](https://www.dictionary.com/browse/holo-)."
   ]
  },
  {
   "cell_type": "markdown",
   "metadata": {},
   "source": [
    "# Doesn't Python *already* cover all these stages?\n",
    "\n",
    "Sure! That's how it ended up with:"
   ]
  },
  {
   "cell_type": "markdown",
   "metadata": {},
   "source": [
    "<div style=\"clear:left;\">\n",
    "<img src=\"../assets/landscape_hv_nx.png\" width=75% align=\"left\" style=\"margin: 0px 30px\">\n",
    "</div>"
   ]
  },
  {
   "cell_type": "markdown",
   "metadata": {},
   "source": [
    "## Why so many tools?\n",
    "\n",
    "Because each tool is typically limited to one or two of the stages in the data life cycle, supporting some well but not the others:\n",
    "\n",
    "- Simple, quick plots, but limited in capabilities, customization, and compositionality.\n",
    "- Deep capabilities for print-based plots, but weak or no support for custom interactivity in web apps.\n",
    "- Good interactivity in Jupyter, but weak or no support for batch processing or deployed servers.\n",
    "- Good support for deployed servers, but weak or no support for Jupyter or interactive exploration in general.\n",
    "- Good support for small datasets, but can't handle large datasets until *after* they have been explored enough to determine how to aggregate or model them"
   ]
  },
  {
   "cell_type": "markdown",
   "metadata": {},
   "source": [
    "## How does HoloViz help?\n",
    "\n",
    "To avoid having to abandon all your work on one stage to reach the next, HoloViz tools reduce friction and gaps between the stages:\n",
    "\n",
    "- Focuses from the start on tools that support web browsers fully, because all tools offer static output, but not vice versa.\n",
    "- Focuses on writing Python, not web tech -- web tech like JS/CSS would be fine for deployments, but very impractical for exploratory analysis.\n",
    "- Eliminates browser-based data-size restrictions, to avoid having to switch tools for each dataset.\n",
    "- Makes sure that all interactivity works the same in Jupyter and in a standalone deployment\n",
    "- Provides high-level (quick and convenient) interfaces that are [shortcuts, not dead ends](https://holoviz.org/tutorial/Overview.html)"
   ]
  },
  {
   "cell_type": "markdown",
   "metadata": {},
   "source": [
    "## HoloViz libraries\n",
    "\n",
    "<img width=\"800\" src=\"../assets/pn_hp_hv_gv_ds_pa_cs.png\"/>\n",
    "\n",
    "To address the above issues, we have developed a set of open-source\n",
    "Python packages to streamline the process of working with small and\n",
    "large datasets (from a few datapoints to billions or more) in a web\n",
    "browser, whether doing exploratory analysis, making simple widget-based\n",
    "tools, or building full-featured dashboards. The main libraries in this\n",
    "ecosystem include:\n",
    "\n",
    "-   [Panel](http://panel.pyviz.org): Assembling objects from many different libraries into a layout or app, whether in a Jupyter notebook or in a standalone servable dashboard\n",
    "-   [hvPlot](http://hvplot.pyviz.org): Quickly return interactive Bokeh-based HoloViews or GeoViews objects from Pandas, Xarray, orother data structures\n",
    "-   [HoloViews](http://holoviews.org): Declarative objects for instantly visualizable data, building Bokeh plots from convenient high-level specifications\n",
    "-   [GeoViews](http://geo.holoviews.org): Visualizable geographic data that that can be mixed and matched with HoloViews objects\n",
    "-   [Datashader](http://datashader.org): Rasterizing huge datasets quickly as fixed-size images\n",
    "-   [Param](http://param.pyviz.org): Declaring user-relevant parameters, making it simple to work with widgets inside and outside of a notebook context\n",
    "-   [Colorcet](http://colorcet.pyviz.org): Perceptually accurate continuous and categorical colormaps for any viz tool\n",
    "\n",
    "\n",
    "These libraries work with and are built upon several familiar open source [libraries](https://holoviz.org/tutorial/Overview.html).\n"
   ]
  },
  {
   "cell_type": "markdown",
   "metadata": {},
   "source": [
    "<div style=\"clear:left;\">\n",
    "<img src=\"../assets/landscape_hv_nx_panel.png\" width=65% \n",
    "align=\"left\" style=\"margin: 0px 30px\">\n",
    "\n",
    "<br><br>\n",
    "<br><br>\n",
    "HoloViz currently covers this subset of viz tools\n",
    "<br><br>\n",
    "</div>\n",
    "<div style=\"clear:left;\"></div>"
   ]
  },
  {
   "cell_type": "markdown",
   "metadata": {},
   "source": [
    "<div style=\"clear:left;\">\n",
    "<img src=\"../assets/landscape_hv_nx_pyviz.png\" width=65% \n",
    "align=\"left\" style=\"margin: 0px 30px\">\n",
    "\n",
    "<br><br>\n",
    "<br><br>\n",
    "These tools are the most fully supported and are often entirely sufficient on their own.\n",
    "<br><br>\n",
    "</div>\n",
    "<div style=\"clear:left;\"></div>"
   ]
  },
  {
   "cell_type": "markdown",
   "metadata": {},
   "source": [
    "## The HoloViz tutorial\n",
    "\n",
    "In this tutorial, we'll focus on an example set of data about [earthquake events](https://earthquake.usgs.gov), using it to illustrate how to build a dashboard such as this one:\n",
    "\n"
   ]
  },
  {
   "cell_type": "markdown",
   "metadata": {
    "slideshow": {
     "slide_type": "slide"
    }
   },
   "source": [
    "### Insert dashboard here"
   ]
  },
  {
   "cell_type": "markdown",
   "metadata": {},
   "source": [
    "\n",
    "This tutorial will build on the following libraries/APIs.  \n",
    "\n",
    "* [hvPlot](https://hvplot.pyviz.org), which extends a well known API across many different data libraries. \n",
    "* The `.interactive` API, which brings live interactivity to the existing Pandas and Xarray APIs.\n",
    "* [Panel](https://panel.holoviz.org/), which lets you lay out your visual elements and build arbitrary interactivity linked by widgets.\n",
    "\n",
    "\n",
    "\n"
   ]
  },
  {
   "cell_type": "markdown",
   "metadata": {},
   "source": [
    "# Let's get started!"
   ]
  },
  {
   "cell_type": "code",
   "execution_count": null,
   "metadata": {},
   "outputs": [],
   "source": []
  }
 ],
 "metadata": {
  "celltoolbar": "Slideshow",
  "kernelspec": {
   "display_name": "Python 3",
   "language": "python",
   "name": "python3"
  },
  "language_info": {
   "codemirror_mode": {
    "name": "ipython",
    "version": 3
   },
   "file_extension": ".py",
   "mimetype": "text/x-python",
   "name": "python",
   "nbconvert_exporter": "python",
   "pygments_lexer": "ipython3",
   "version": "3.7.10"
  }
 },
 "nbformat": 4,
 "nbformat_minor": 4
}
