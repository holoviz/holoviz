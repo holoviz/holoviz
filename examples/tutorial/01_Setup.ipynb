{
 "cells": [
  {
   "cell_type": "markdown",
   "metadata": {},
   "source": [
    "<style>div.container { width: 100% }</style>\n",
    "<img style=\"float:left;  vertical-align:text-bottom;\" height=\"65\" width=\"172\" src=\"../assets/PyViz_logo_wm_line.png\" />\n",
    "<div style=\"float:right; vertical-align:text-bottom;\"><h2>Tutorial 1. Setup</h2></div>"
   ]
  },
  {
   "cell_type": "markdown",
   "metadata": {},
   "source": [
    "This first step to the tutorial will make sure your system is set up to do all the remaining sections, with all software installed and all data downloaded as needed.  The [index](index.ipynb) covered background you might want before you start."
   ]
  },
  {
   "cell_type": "markdown",
   "metadata": {},
   "source": [
    "## Getting set up\n",
    "\n",
    "Please consult [holoviz.org](http://holoviz.org/installation.html) for the full instructions on installing the software used in these tutorials. Here is the condensed version of those instructions, assuming you have already downloaded and installed [Anaconda](https://www.anaconda.com/download) or [Miniconda](https://conda.io/miniconda.html):"
   ]
  },
  {
   "cell_type": "markdown",
   "metadata": {},
   "source": [
    "```\n",
    "conda create -n holoviz-tutorial python=3.6\n",
    "conda activate holoviz-tutorial\n",
    "conda install -c pyviz holoviz\n",
    "holoviz examples\n",
    "cd holoviz-examples\n",
    "jupyter notebook\n",
    "```"
   ]
  },
  {
   "cell_type": "markdown",
   "metadata": {},
   "source": [
    "See the full instructions at [holoviz.org](http://holoviz.org/installation.html) if you don't yet have conda, or if you have an old version of conda. \n",
    "\n",
    "Once everything is installed, run the following cell to test the key imports needed for this tutorial. If it completes without errors your environment should be ready to go:"
   ]
  },
  {
   "cell_type": "code",
   "execution_count": null,
   "metadata": {},
   "outputs": [],
   "source": [
    "import pandas as pd, datashader as ds, dask, bokeh, holoviews as hv  # noqa\n",
    "from distutils.version import LooseVersion\n",
    "\n",
    "min_versions = dict(pd='0.24.0', ds='0.7.0', dask='1.2.0', bokeh='1.2.0', hv='1.12.3')\n",
    "\n",
    "for lib, ver in min_versions.items():\n",
    "    assert LooseVersion(globals()[lib].__version__) >= LooseVersion(ver)"
   ]
  },
  {
   "cell_type": "markdown",
   "metadata": {},
   "source": [
    "And you should see the HoloViews, Bokeh, and Matplotlib logos after running the following cell:"
   ]
  },
  {
   "cell_type": "code",
   "execution_count": null,
   "metadata": {},
   "outputs": [],
   "source": [
    "hv.extension('bokeh', 'matplotlib')"
   ]
  },
  {
   "cell_type": "markdown",
   "metadata": {},
   "source": [
    "## Downloading sample data"
   ]
  },
  {
   "cell_type": "markdown",
   "metadata": {},
   "source": [
    "Lastly, let's make sure the datasets needed are available.  First, check that the large taxi dataset was downloaded correctly during installation:"
   ]
  },
  {
   "cell_type": "code",
   "execution_count": null,
   "metadata": {},
   "outputs": [],
   "source": [
    "import os\n",
    "if not os.path.isfile('../data/nyc_taxi_wide.parq'):\n",
    "    print('Taxi dataset not found; please run \"holoviz fetch-data --path ../data\".')"
   ]
  },
  {
   "cell_type": "markdown",
   "metadata": {},
   "source": [
    "Finally, some examples in the tutorial rely on bokeh sample data, which you can get by running the command below:"
   ]
  },
  {
   "cell_type": "code",
   "execution_count": null,
   "metadata": {},
   "outputs": [],
   "source": [
    "if not os.path.isfile(os.path.join(os.path.expanduser('~'),'.bokeh','data','routes.csv')):\n",
    "    bokeh.sampledata.download()"
   ]
  },
  {
   "cell_type": "markdown",
   "metadata": {},
   "source": [
    "If you don't see any warning or error messages above, you should be good to go!  Now that you are set up, you can continue with the [rest of the tutorial sections](2_Annotating_Data.ipynb)). You can also try other examples that might speak to your interests more directly, such as the [HoloViz overview](../talks/Overview.ipynb), the [A2 Dashboard Workflow](A2_Dashboard_Workflow.ipynb), or the various [real-world examples of using a variety of tools to solve a visualization problem](https://examples.pyviz.org).\n"
   ]
  }
 ],
 "metadata": {
  "language_info": {
   "name": "python",
   "pygments_lexer": "ipython3"
  }
 },
 "nbformat": 4,
 "nbformat_minor": 2
}
