{
 "cells": [
  {
   "cell_type": "markdown",
   "metadata": {},
   "source": [
    "<style>div.container { width: 100% }</style>\n",
    "<img style=\"float:left;  vertical-align:text-bottom;\" height=\"65\" width=\"172\" src=\"../assets/holoviz-logo-unstacked.svg\" />\n",
    "<div style=\"float:right; vertical-align:text-bottom;\"><h2>Tutorial Index</h2></div>"
   ]
  },
  {
   "cell_type": "markdown",
   "metadata": {},
   "source": [
    "This tutorial will take you through all of the steps involved in exploring data of many different types and sizes, building simple and complex figures, working with billions of data points, adding interactive behavior, widgets and controls, and deploying full dashboards and applications.\n",
    "\n",
    "We'll be using a wide range of open-source Python libraries, but focusing on the tools we help maintain as part of the HoloViz project: \n",
    "[Panel](https://panel.pyviz.org), \n",
    "[hvPlot](https://hvplot.pyviz.org),\n",
    "[HoloViews](http://holoviews.org),\n",
    "[GeoViews](http://geoviews.org),\n",
    "[Datashader](http://datashader.org),\n",
    "[Param](http://param.pyviz.org), and \n",
    "[Colorcet](http://colorcet.pyviz.org).\n",
    "\n",
    "<img width=\"800\" src=\"../assets/pn_hp_hv_gv_ds_pa_cs.png\"/>\n",
    "\n",
    "These tools were previously part of [PyViz.org](http://pyviz.org), but have been pulled out into [HoloViz.org](http://holoviz.org) to allow PyViz to be fully neutral and general.\n",
    "\n",
    "The HoloViz tools have been carefully designed to work together with each other and with the SciPy ecosystem to address a very wide range of data-analysis and visualization tasks, making it simple to discover, understand, and communicate the important properties of your data.\n",
    "\n",
    "<img align=\"center\" src=\"../assets/earthquakes.png\"></img>\n",
    "\n",
    "This notebook serves as the homepage of the tutorial, including a table of contents letting you launch each tutorial section."
   ]
  },
  {
   "cell_type": "markdown",
   "metadata": {},
   "source": [
    "## Index and Schedule\n",
    "\n",
    "- **Introduction and setup**\n",
    "   * &nbsp;&nbsp;**5 min** &nbsp;[Setup](./00_Setup.ipynb): Setting up the environment and data files.\n",
    "   * **20 min** &nbsp;[Overview](./01_Overview.ipynb): Overview of the HoloViz tools, philosophy, and approach.\n",
    "\n",
    "- **Building dashboards using Panel**\n",
    "   * **15 min** &nbsp;[Building_Panels](./02_Building_Panels.ipynb): How to make apps and dashboards from Python objects.\n",
    "   * &nbsp;&nbsp;**5 min** &nbsp;[*Exercise 1*](./exercises/Building_a_Dashboard.ipynb#Exercise-1): Using a mix of visualizable types, create a panel and serve it.\n",
    "   * **10 min** &nbsp;[Interlinked Panels](./03_Interlinked_Panels.ipynb): Customizing linkages between widgets and displayable objects.\n",
    "   * &nbsp;&nbsp;**5 min** &nbsp;[*Exercise 2*](./exercises/Building_a_Dashboard.ipynb#Exercise-2): Add widgets to control your dashboard.\n",
    "   * **10 min** &nbsp;*Break*\n",
    "   \n",
    "   \n",
    "- **The `.plot` API: a data-centric approach to visualization**   \n",
    "   * **30 min** &nbsp;[Basic Plotting](./04_Basic_Plotting.ipynb): Quick introduction to the `.plot` interface.\n",
    "   * **10 min** &nbsp;[Composing Plots](./05_Composing_Plots.ipynb): Overlaying and laying out `.hvplot` outputs to show relationships.\n",
    "   * **10 min** &nbsp;[*Exercise 3*](./exercises/Plotting.ipynb#Exercise-3): Add some `.plot` or `.hvplot` visualizations to your dashboard.\n",
    "   * **10 min** &nbsp;*Break*\n",
    "\n",
    "   \n",
    "- **Custom interactivity**\n",
    "   * **25 min** &nbsp;[Interlinked Plots](./06_Interlinked_Plots.ipynb): Connecting HoloViews \"streams\" to customize behavior.\n",
    "   * **10 min** &nbsp;[*Exercise 4*](./exercises/Plotting.ipynb#Exercise-4): Add a linked visualization with HoloViews.\n",
    "\n",
    "\n",
    "- **Working with large datasets**\n",
    "   * **20 min** &nbsp;[Large Data](./07_Large_Data.ipynb): Using Datashader to pre-render data in Python\n",
    "   * **10 min** &nbsp;*Break*\n",
    "\n",
    "\n",
    "- **Building advanced dashboards**\n",
    "   * **15 min** &nbsp;[Advanced Dashboards](./08_Advanced_Dashboards.ipynb): Using Panel to create an advanced dashboard with linked plots and streams.\n",
    "   * **30 min** &nbsp;[*Exercise 5*](./exercises/Advanced_Dashboarding.ipynb): Build a new dashboard using everything you've learned so far."
   ]
  },
  {
   "cell_type": "markdown",
   "metadata": {},
   "source": [
    "## Related links\n",
    "\n",
    "You will find extensive support material on the websites for each package. You may find these links particularly useful during the tutorial:\n",
    "\n",
    "* [hvPlot user guide](https://hvplot.pyviz.org/user_guide): Guide to the plots available via `.hvplot()`\n",
    "* [HoloViews reference gallery](http://holoviews.org/reference/index.html): Visual reference of all HoloViews elements and containers, along with some other components\n",
    "* [Panel reference gallery](http://panel.pyviz.org/reference/index.html): Visual reference of all panes, layouts and widgets."
   ]
  }
 ],
 "metadata": {
  "language_info": {
   "name": "python",
   "pygments_lexer": "ipython3"
  }
 },
 "nbformat": 4,
 "nbformat_minor": 4
}
