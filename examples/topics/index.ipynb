{
 "cells": [
  {
   "cell_type": "markdown",
   "metadata": {},
   "source": [
    "<style>div.container { width: 100% }</style>\n",
    "<img style=\"float:left;  vertical-align:text-bottom;\" height=\"65\" width=\"172\" src=\"../assets/PyViz_logo_wm_line.png\" />\n",
    "<div style=\"float:right; vertical-align:text-bottom;\"><h2>Topics Index</h2></div>"
   ]
  },
  {
   "cell_type": "markdown",
   "metadata": {},
   "source": [
    "These topics provide examples of the types of work that can be done in the PyViz ecosystem.\n",
    "\n",
    "To learn how to use PyViz tools, see the [Tutorial](../tutorial/index.ipynb).\n",
    "\n",
    "Contents:\n",
    " - [NYC Taxi](./nyc_taxi.ipynb): Explore NYC Taxi data with datashader - visualizing data as points, curves, and bars.\n",
    "   \n",
    "   [<img src=../assets/thumbnails/nyc_taxi.png width=200 align=left />](./nyc_taxi.ipynb)"
   ]
  }
 ],
 "metadata": {
  "language_info": {
   "name": "python",
   "pygments_lexer": "ipython3"
  }
 },
 "nbformat": 4,
 "nbformat_minor": 2
}
