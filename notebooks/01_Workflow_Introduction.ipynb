{
 "cells": [
  {
   "cell_type": "markdown",
   "metadata": {},
   "source": [
    "<center>\n",
    "# <img src=\"https://github.com/pyviz/pyviz/raw/master/notebooks/assets/PyViz_logo_wm.png\" width=170>Revealing your data (nearly) effortlessly,<br>at every step in your workflow\n",
    "<br>\n",
    "<img src=\"https://github.com/pyviz/pyviz/raw/master/notebooks/assets/hv_gv_bk_ds_pa.png\" width=\"50%\" style=\"margin: 0px 25%\">\n",
    "<center>"
   ]
  },
  {
   "cell_type": "markdown",
   "metadata": {},
   "source": [
    "You can use this document either as a talk, using [RISE](https://github.com/damianavila/RISE), or as a regular Jupyter notebook. "
   ]
  },
  {
   "cell_type": "markdown",
   "metadata": {},
   "source": [
    "# Workflow from data to decision\n",
    "<img src=\"https://github.com/pyviz/pyviz/raw/master/notebooks/assets/workflow.png\" width=40% align=\"left\" style=\"margin: 0px 20px\">\n",
    "<br>\n",
    "If there's no visualization at any of these stages, you're flying blind.<br><br>\n",
    "\n",
    "What if if were simple to visualize anything, anywhere?"
   ]
  },
  {
   "cell_type": "markdown",
   "metadata": {},
   "source": [
    "<img src=\"https://github.com/pyviz/pyviz/raw/master/notebooks/assets/landscape_hv_nx.png\" width=65% align=\"left\" style=\"margin: 0px 30px\">\n",
    "## Good news:<br><br>Lots of choices!\n",
    "<br><br><br><small>(adapted from Jake VanderPlas)"
   ]
  },
  {
   "cell_type": "markdown",
   "metadata": {},
   "source": [
    "<img src=\"https://github.com/pyviz/pyviz/raw/master/notebooks/assets/landscape_hv_nx.png\" width=65% align=\"left\" style=\"margin: 0px 30px\">\n",
    "\n",
    "## Bad news:<br><br>Lots of choices!\n",
    "<br><br>\n",
    "Too hard to\n",
    "try them all,\n",
    "learn them all, or \n",
    "get them to work together."
   ]
  },
  {
   "cell_type": "markdown",
   "metadata": {},
   "source": [
    "<img src=\"https://github.com/pyviz/pyviz/raw/master/notebooks/assets/landscape_hv_nx_pyviz.png\" width=65% align=\"left\" style=\"margin: 0px 30px\">\n",
    "\n",
    "## PyViz:\n",
    "<br><br>\n",
    "Seamless interoperability<br>for browser-based<br>viz tools\n",
    "\n",
    "Supported by Anaconda, Inc."
   ]
  },
  {
   "cell_type": "code",
   "execution_count": null,
   "metadata": {},
   "outputs": [],
   "source": [
    "import numpy as np\n",
    "import pandas as pd\n",
    "import holoviews as hv\n",
    "import datashader.transfer_functions as tf\n",
    "\n",
    "%matplotlib inline\n",
    "\n",
    "hv.extension('bokeh', 'matplotlib', width=\"100\")\n",
    "%opts Curve [width=600 height=250 tools=['hover'] ] {+framewise} VLine (color=\"black\")\n",
    "%opts Bars  [width=800 height=400 tools=['hover'] group_index=1 legend_position='top_left' xrotation=90]"
   ]
  },
  {
   "cell_type": "markdown",
   "metadata": {},
   "source": [
    "# Exploring Pandas Dataframe\n",
    "\n",
    "If your data is in a Pandas dataframe, it's natural to explore it using the ``.plot()`` method (based on Matplotlib).  Let's look at a [dataset of the number of cases of measles and pertussis](http://graphics.wsj.com/infectious-df-and-vaccines/#b02g20t20w15) (per 100,000 people) over time in each state:"
   ]
  },
  {
   "cell_type": "code",
   "execution_count": null,
   "metadata": {},
   "outputs": [],
   "source": [
    "df = pd.read_csv('../data/diseases.csv.gz')\n",
    "df.head()"
   ]
  },
  {
   "cell_type": "markdown",
   "metadata": {},
   "source": [
    "Just calling ``.plot()`` won't give anything meaningful, because it doesn't know what should be plotted against what:"
   ]
  },
  {
   "cell_type": "code",
   "execution_count": null,
   "metadata": {},
   "outputs": [],
   "source": [
    "df.plot();"
   ]
  },
  {
   "cell_type": "markdown",
   "metadata": {},
   "source": [
    "But with some Pandas operations we can pull out parts of the data that make sense to plot:"
   ]
  },
  {
   "cell_type": "code",
   "execution_count": null,
   "metadata": {},
   "outputs": [],
   "source": [
    "import numpy as np\n",
    "measles_by_year = df[[\"Year\",\"measles\"]].groupby(\"Year\").aggregate(np.sum)\n",
    "measles_by_year.plot();"
   ]
  },
  {
   "cell_type": "markdown",
   "metadata": {},
   "source": [
    "Here it is easy to see that the 1963 introduction of a measles vaccine brought the cases down to negligible levels."
   ]
  },
  {
   "cell_type": "markdown",
   "metadata": {},
   "source": [
    "By default, the tools below ignore the Pandas index, so we'll make it into a real column for the rest of this notebook:"
   ]
  },
  {
   "cell_type": "code",
   "execution_count": null,
   "metadata": {},
   "outputs": [],
   "source": [
    "measles_by_year = measles_by_year.reset_index()"
   ]
  },
  {
   "cell_type": "markdown",
   "metadata": {},
   "source": [
    "# Exploring Data with HoloViews and Bokeh"
   ]
  },
  {
   "cell_type": "markdown",
   "metadata": {},
   "source": [
    "The above plots are just static images, but it can be just as simple to get fully interactive plots in a web browser, with hover, pan, and zoom, by using HoloViews to get a Bokeh plot:"
   ]
  },
  {
   "cell_type": "code",
   "execution_count": null,
   "metadata": {},
   "outputs": [],
   "source": [
    "hv.Curve(measles_by_year)"
   ]
  },
  {
   "cell_type": "markdown",
   "metadata": {},
   "source": [
    "Here [Bokeh](http://bokeh.pydata.org) makes rich JavaScript-based interactive plots from within Python, accessed using the simple data-centric API of [HoloViews](http://holoviews.org).\n",
    "\n",
    "With HoloViews, you can easily add to the plot to capture your understanding as you explore:"
   ]
  },
  {
   "cell_type": "code",
   "execution_count": null,
   "metadata": {},
   "outputs": [],
   "source": [
    "m = hv.Curve(measles_by_year)  *  hv.VLine(1963)  *  \\\n",
    "    hv.Text(1963, 27000, \" Vaccine introduced\", halign='left')\n",
    "m\n",
    "print(m)"
   ]
  },
  {
   "cell_type": "markdown",
   "metadata": {},
   "source": [
    "while still always being able to access the original data involved for further analysis:"
   ]
  },
  {
   "cell_type": "code",
   "execution_count": null,
   "metadata": {},
   "outputs": [],
   "source": [
    "m.Curve.I.data.head()"
   ]
  },
  {
   "cell_type": "markdown",
   "metadata": {},
   "source": [
    "With other plotting libraries, each plot you make will be a dead end, discouraging you from investing in it, but HoloViews objects preserve the full data throughout plotting, slicing, sampling, and other operations."
   ]
  },
  {
   "cell_type": "markdown",
   "metadata": {},
   "source": [
    "It's also easy to break down the data in different ways, such as to look at each state individually:"
   ]
  },
  {
   "cell_type": "code",
   "execution_count": null,
   "metadata": {},
   "outputs": [],
   "source": [
    "ds = hv.Dataset(df, ['Year', 'State'], 'measles').aggregate(function=np.sum)\n",
    "measles_by_state = ds.to(hv.Curve, 'Year', 'measles')\n",
    "measles_by_state * hv.VLine(1963)"
   ]
  },
  {
   "cell_type": "markdown",
   "metadata": {},
   "source": [
    "Or pull out a couple of those to put side by side:"
   ]
  },
  {
   "cell_type": "code",
   "execution_count": null,
   "metadata": {},
   "outputs": [],
   "source": [
    "\n",
    "measles_by_state[\"Texas\"] + measles_by_state[\"New York\"]"
   ]
  },
  {
   "cell_type": "markdown",
   "metadata": {},
   "source": [
    "Or to compare four states over time by overlaying:"
   ]
  },
  {
   "cell_type": "code",
   "execution_count": null,
   "metadata": {},
   "outputs": [],
   "source": [
    "states = ['New York', 'New Jersey', 'California', 'Texas']\n",
    "measles_by_state.select(State=states, Year=(1930, 2005)).overlay() * hv.VLine(1963)"
   ]
  },
  {
   "cell_type": "markdown",
   "metadata": {},
   "source": [
    "Or by faceting:"
   ]
  },
  {
   "cell_type": "code",
   "execution_count": null,
   "metadata": {},
   "outputs": [],
   "source": [
    "%%opts Curve [width=200, height=100]\n",
    "measles_by_state.select(State=states, Year=(1930, 2005)).grid('State') * hv.VLine(1963)"
   ]
  },
  {
   "cell_type": "markdown",
   "metadata": {},
   "source": [
    "Or as Bars or many other types of plots:"
   ]
  },
  {
   "cell_type": "code",
   "execution_count": null,
   "metadata": {},
   "outputs": [],
   "source": [
    "ds.select(State=states, Year=(1980, 1990)).to(hv.Bars, ['Year', 'State'], 'measles').sort()"
   ]
  },
  {
   "cell_type": "markdown",
   "metadata": {},
   "source": [
    "Or with error bars:"
   ]
  },
  {
   "cell_type": "code",
   "execution_count": null,
   "metadata": {},
   "outputs": [],
   "source": [
    "agg = ds.aggregate('Year', function=np.mean, spreadfn=np.std)\n",
    "(hv.Curve(agg) * hv.ErrorBars(agg,vdims=['measles', 'measles_std'])).redim.range(measles=(0, None)) * hv.VLine(1963)"
   ]
  },
  {
   "cell_type": "markdown",
   "metadata": {},
   "source": [
    "If we really want to invest a lot of time in making a fancy plot, we can customize it to try to show *all* the yearly data about measles at once:"
   ]
  },
  {
   "cell_type": "code",
   "execution_count": null,
   "metadata": {},
   "outputs": [],
   "source": [
    "url = 'https://raw.githubusercontent.com/blmoore/blogR/master/data/measles_incidence.csv'\n",
    "data = pd.read_csv(url, skiprows=2, na_values='-')\n",
    "\n",
    "yearly_data = data.drop('WEEK', axis=1).groupby('YEAR').sum().reset_index()\n",
    "measles = pd.melt(yearly_data, id_vars=['YEAR'], var_name='State', value_name='Incidence')\n",
    "\n",
    "heatmap = hv.HeatMap(measles, label='Measles Incidence')\n",
    "aggregate = hv.Dataset(heatmap).aggregate('YEAR', np.mean, np.std)\n",
    "\n",
    "marker = hv.Text(1963, 800, u'\\u2193 Vaccine introduced', halign='left')\n",
    "\n",
    "agg = hv.ErrorBars(aggregate) * hv.Curve(aggregate).opts(plot=dict(xrotation=90))\n",
    "\n",
    "hm_opts = dict(width=900, height=500, tools=['hover'], logz=True, invert_yaxis=True,\n",
    "               xrotation=90, labelled=[], toolbar='above', xaxis=None)\n",
    "overlay_opts = dict(width=900, height=200, show_title=False)\n",
    "vline_opts = dict(line_color='black')\n",
    "\n",
    "opts = {'HeatMap': {'plot':  hm_opts}, \n",
    "        'Overlay': {'plot':  overlay_opts}, \n",
    "        'VLine':   {'style': vline_opts}}"
   ]
  },
  {
   "cell_type": "code",
   "execution_count": null,
   "metadata": {},
   "outputs": [],
   "source": [
    "(heatmap + agg * marker).opts(opts).cols(1)"
   ]
  },
  {
   "cell_type": "markdown",
   "metadata": {},
   "source": [
    "By the way, the only thing about any of this that's specific to Bokeh is being able to interact with elements of the plot; HoloViews can use Matplotlib instead of Bokeh to generate any of the plots if we don't need zoom, hover, etc.:"
   ]
  },
  {
   "cell_type": "code",
   "execution_count": null,
   "metadata": {},
   "outputs": [],
   "source": [
    "%%output backend='matplotlib' \n",
    "measles_by_state * hv.VLine(1963) * hv.Text(1963, 1000, \"  Vaccine introduced\", halign='left')"
   ]
  },
  {
   "cell_type": "markdown",
   "metadata": {},
   "source": [
    "As you can see, there are lots of options for getting quick plots to explore your data in a browser, and if you choose HoloView+Bokeh plots, you can have full interactivity with very little code to explore even quite complex datasets."
   ]
  },
  {
   "cell_type": "markdown",
   "metadata": {},
   "source": [
    "# Interactive statistical plots\n",
    "\n",
    "For high-dimensional datasets with additional data variables, we can compose all the above faceting methods as needed.\n",
    "\n",
    "For instance, let's look at the Iris dataset:"
   ]
  },
  {
   "cell_type": "code",
   "execution_count": null,
   "metadata": {},
   "outputs": [],
   "source": [
    "from holoviews.operation import gridmatrix\n",
    "from bokeh.sampledata.iris import flowers as iris\n",
    "\n",
    "iris.tail()"
   ]
  },
  {
   "cell_type": "markdown",
   "metadata": {},
   "source": [
    "We can look at all these relationships at once, interactively:<span style=\"display:block; margin-top:-12px;\"> </span>"
   ]
  },
  {
   "cell_type": "code",
   "execution_count": null,
   "metadata": {},
   "outputs": [],
   "source": [
    "%%opts Bivariate [bandwidth=0.5] (cmap=Cycle(values=['Blues', 'Reds', 'Oranges'])) \n",
    "%%opts Points    [tools=['box_select','lasso_select']] (size=2 alpha=0.7)  NdOverlay [batched=False]\n",
    "iris_ds      = hv.Dataset(iris).groupby('species').overlay()\n",
    "density_grid = gridmatrix(iris_ds, diagonal_type=hv.Distribution, chart_type=hv.Bivariate)\n",
    "point_grid   = gridmatrix(iris_ds, chart_type=hv.Points)\n",
    "density_grid * point_grid"
   ]
  },
  {
   "cell_type": "markdown",
   "metadata": {},
   "source": [
    "# Dealing with large data and geo data\n",
    "\n",
    "PyViz is a modular suite of tools, and when you need capabilities not handled by Bokeh and HoloViews as above, you can bring those in:\n",
    " \n",
    "* [**GeoViews**](http://geo.holoviews.org): Visualizable geographic HoloViews objects\n",
    "* [**Datashader**](http://datashader.org): Rasterizing huge HoloViews objects to images quickly\n",
    "* [**Param**](https://ioam.github.io/param): Declaring user-relevant parameters, making it simple to work with widgets inside and outside of a notebook context\n",
    "- [**Colorcet**](http://bokeh.github.io/colorcet): perceptually uniform colormaps for big data\n",
    "\n",
    "Let's look at a large(ish) dataset of 10 million taxi trips on a map."
   ]
  },
  {
   "cell_type": "code",
   "execution_count": null,
   "metadata": {},
   "outputs": [],
   "source": [
    "import holoviews as hv, geoviews as gv, dask.dataframe as dd, cartopy.crs as crs\n",
    "from colorcet import fire\n",
    "from holoviews.operation.datashader import datashade\n",
    "\n",
    "df = dd.read_parquet('../data/nyc_taxi_wide.parq').persist()\n",
    "options = dict(width=700, height=600, xaxis=None, yaxis=None, bgcolor='black')\n",
    "points = hv.Points(df, ['pickup_x', 'pickup_y'])\n",
    "taxi_trips = datashade(points, x_sampling=0.5, y_sampling=0.5, cmap=fire).opts(plot=options)\n",
    "url = 'https://server.arcgisonline.com/ArcGIS/rest/services/World_Imagery/MapServer/tile/{Z}/{Y}/{X}.jpg'\n",
    "tiles = gv.WMTS(url, crs=crs.GOOGLE_MERCATOR)\n",
    "tiles * taxi_trips"
   ]
  },
  {
   "cell_type": "markdown",
   "metadata": {},
   "source": [
    "As you can see, you can specify geo plots easily with GeoViews, and if your HoloViews objects are too big to visualize in a browser directly, you can add `datashade()` to render them into images dynamically on zooming, etc.\n",
    "\n",
    "You can also easily add widgets to control filtering, selection, and other options interactively, either here in the notebook or in a standalone server:"
   ]
  },
  {
   "cell_type": "code",
   "execution_count": null,
   "metadata": {},
   "outputs": [],
   "source": [
    "import param, parambokeh\n",
    "from colorcet import cm_n\n",
    "from holoviews.streams import RangeXY\n",
    "\n",
    "url='https://server.arcgisonline.com/ArcGIS/rest/services/World_Imagery/MapServer/tile/{Z}/{Y}/{X}.jpg'\n",
    "tiles = gv.WMTS(url,crs=crs.GOOGLE_MERCATOR)\n",
    "opts = dict(width=1000,height=600,xaxis=None,yaxis=None,bgcolor='black',show_grid=False)\n",
    "\n",
    "class NYCTaxiExplorer(hv.streams.Stream):\n",
    "    alpha      = param.Magnitude(default=0.75, doc=\"Alpha value for the map opacity\")\n",
    "    colormap   = param.ObjectSelector(default=cm_n[\"fire\"], objects=cm_n.values())\n",
    "    location   = param.ObjectSelector(default='dropoff', objects=['dropoff', 'pickup'])\n",
    "\n",
    "    def make_view(self, x_range, y_range, **kwargs):\n",
    "        map_tiles = tiles.options(alpha=self.alpha, **opts)\n",
    "        points = hv.Points(df, [self.location+'_x', self.location+'_y'])\n",
    "        taxi_trips = datashade(points, x_sampling=0.5, y_sampling=0.5, cmap=self.colormap,\n",
    "                               dynamic=False, x_range=x_range, y_range=y_range, width=1000, height=600)\n",
    "        return map_tiles * taxi_trips"
   ]
  },
  {
   "cell_type": "code",
   "execution_count": null,
   "metadata": {},
   "outputs": [],
   "source": [
    "explorer = NYCTaxiExplorer(name=\"NYC Taxi Trips\")\n",
    "parambokeh.Widgets(explorer, callback=explorer.event)\n",
    "hv.DynamicMap(explorer.make_view, streams=[explorer, RangeXY()])"
   ]
  },
  {
   "cell_type": "markdown",
   "metadata": {},
   "source": [
    "As you can see, the PyViz tools let you integrate visualization into everything you do, using a small amount of code that reveals your data's properties and captures your understanding of it.\n",
    "\n",
    "Check out [pyviz.org](http://pyviz.org) for a detailed tutorial covering all of this material, and see each of the individual project sites for a wealth of examples and galleries.\n",
    "\n",
    "This notebook and set of slides are archived at: https://anaconda.org/jbednar/bednar_index_2017/\n",
    "\n",
    "Thanks to all the PyViz contributors, including James Bednar, Philipp Rudiger, Jean-Luc Stevens, Bryan Van de Ven, Mateusz Paprocki, Joseph Crail, Greg Brener, and Chris Ball."
   ]
  }
 ],
 "metadata": {
  "language_info": {
   "name": "python",
   "pygments_lexer": "ipython3"
  }
 },
 "nbformat": 4,
 "nbformat_minor": 2
}
